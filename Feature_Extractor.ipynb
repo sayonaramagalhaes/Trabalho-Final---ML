{
  "cells": [
    {
      "cell_type": "markdown",
      "metadata": {
        "id": "view-in-github",
        "colab_type": "text"
      },
      "source": [
        "<a href=\"https://colab.research.google.com/github/sayonaramagalhaes/Trabalho-Final---ML/blob/main/Feature_Extractor.ipynb\" target=\"_parent\"><img src=\"https://colab.research.google.com/assets/colab-badge.svg\" alt=\"Open In Colab\"/></a>"
      ]
    },
    {
      "cell_type": "code",
      "source": [
        "from torchvision import models, transforms\n",
        "from PIL import Image\n",
        "import torch\n",
        "import numpy as np\n",
        "import pandas as pd\n",
        "from sklearn.model_selection import train_test_split\n",
        "from sklearn.linear_model import LogisticRegression\n",
        "from sklearn.metrics import accuracy_score, f1_score\n",
        "\n",
        "#Baixar o dataset\n",
        "path = kagglehub.dataset_download(\"shaunthesheep/microsoft-catsvsdogs-dataset\")\n",
        "\n",
        "print(\"Path to dataset files:\", path)\n",
        "\n",
        "#Verificar o diretório\n",
        "\n",
        "print(\"Conteúdo do diretório do dataset:\", os.listdir(path))\n",
        "\n",
        "#Definir o pré-processamento das imagens\n",
        "transform = transforms.Compose([\n",
        "    transforms.Resize((224, 224)),  # Redimensiona para 224x224\n",
        "    transforms.Grayscale(num_output_channels=3),  # Garante que a imagem tenha 3 canais (RGB)\n",
        "    transforms.ToTensor(),  # Converte para tensor\n",
        "    transforms.Normalize(mean=[0.485, 0.456, 0.406], std=[0.229, 0.224, 0.225])  # Normaliza com os valores do ImageNet\n",
        "])\n",
        "\n",
        "# Carregar o modelo AlexNet pré-treinado\n",
        "model = models.alexnet(weights=models.AlexNet_Weights.IMAGENET1K_V1)\n",
        "\n",
        "# Remover a última camada (classificador)\n",
        "model.classifier = torch.nn.Sequential(*list(model.classifier.children())[:-1])\n",
        "\n",
        "#avaliação\n",
        "model.eval()\n",
        "\n",
        "# Função  extrair as características\n",
        "def extract_features(image_path):\n",
        "    try:\n",
        "        # Abrir a imagem e aplicar as transformações\n",
        "        image = Image.open(image_path).convert('RGB')  # Garantir que a imagem esteja em RGB\n",
        "        image = transform(image).unsqueeze(0)  # Adiciona uma dimensão extra para o batch\n",
        "\n",
        "        # Passar a imagem pela rede (sem a última camada)\n",
        "        with torch.no_grad():  # Desativa o cálculo de gradientes para economizar memória\n",
        "            features = model.features(image)  # Passa pela parte convolucional\n",
        "            features = features.view(features.size(0), -1)  # Achata as características para um vetor unidimensional\n",
        "\n",
        "        return features\n",
        "    except (PIL.UnidentifiedImageError, OSError) as e:\n",
        "        print(f\"Erro ao processar imagem {image_path}: {e}\")\n",
        "        return None\n",
        "\n",
        "\n",
        "# Corrigir caminho para as imagens\n",
        "dataset_path = os.path.join(path, \"PetImages\")\n",
        "\n",
        "# Verifique a estrutura do diretório novamente\n",
        "print(\"Estrutura do diretório de imagens:\", os.listdir(dataset_path))\n",
        "\n",
        "# Obter subpastas (ex: 'cats' e 'dogs')\n",
        "subfolders = os.listdir(dataset_path)\n",
        "print(\"Subpastas do dataset:\", subfolders)\n",
        "\n",
        "#Listas para armazenar características e rótulos\n",
        "features_list = []\n",
        "labels_list = []\n",
        "\n",
        "# Iterar sobre as subpastas e extrair as características\n",
        "for subfolder in subfolders:\n",
        "    subfolder_path = os.path.join(dataset_path, subfolder)\n",
        "    if os.path.isdir(subfolder_path):\n",
        "        images = os.listdir(subfolder_path)\n",
        "\n",
        "        for image_name in images:\n",
        "            image_path = os.path.join(subfolder_path, image_name)\n",
        "            # Verifica se é um arquivo de imagem, com base na extensão do arquivo\n",
        "            if image_name.endswith(('.jpg', '.jpeg', '.png')):\n",
        "                features = extract_features(image_path)  # Extrai as características\n",
        "                if features is not None:\n",
        "                    features_list.append(features.flatten().numpy())  # Armazena as características como vetor\n",
        "                    labels_list.append(0 if subfolder == 'Cat' else 1)  # 0 gatos, 1 cachorros\n",
        "\n",
        "#Converter listas para arrays numpy\n",
        "X = np.array(features_list)\n",
        "y = np.array(labels_list)\n",
        "\n",
        "# Dividir os dados em treino e teste\n",
        "X_train, X_test, y_train, y_test = train_test_split(X, y, test_size=0.2, random_state=42)\n",
        "\n",
        "#Treinar o modelo de Regressão Logística\n",
        "logreg_model = LogisticRegression(max_iter=1000)\n",
        "logreg_model.fit(X_train, y_train)\n",
        "\n",
        "#Fazer previsões com o modelo treinado\n",
        "y_pred = logreg_model.predict(X_test)\n",
        "\n",
        "# Avaliar o modelo\n",
        "accuracy = accuracy_score(y_test, y_pred)\n",
        "f1 = f1_score(y_test, y_pred)\n",
        "\n",
        "print(f\"Acurácia do modelo: {accuracy:.4f}\")\n",
        "print(f\"F1-Score do modelo: {f1:.4f}\")\n",
        "\n"
      ],
      "metadata": {
        "id": "Cy84KtOSe0II"
      },
      "execution_count": null,
      "outputs": []
    },
    {
      "cell_type": "code",
      "source": [
        "#precisao\n",
        "from sklearn.metrics import classification_report\n",
        "\n",
        "# Fazer previsões com o modelo treinado\n",
        "y_pred = logreg_model.predict(X_test)\n",
        "\n",
        "# Avaliar o modelo\n",
        "report = classification_report(y_test, y_pred)\n",
        "\n",
        "print(\"Relatório de Classificação:\\n\", report)\n",
        "\n"
      ],
      "metadata": {
        "colab": {
          "base_uri": "https://localhost:8080/"
        },
        "id": "K_PWq5ij7KFt",
        "outputId": "6f915ec7-19fb-45eb-89aa-8ec82908a205"
      },
      "execution_count": null,
      "outputs": [
        {
          "output_type": "stream",
          "name": "stdout",
          "text": [
            "Relatório de Classificação:\n",
            "               precision    recall  f1-score   support\n",
            "\n",
            "           0       0.93      0.94      0.94      2485\n",
            "           1       0.94      0.93      0.94      2515\n",
            "\n",
            "    accuracy                           0.94      5000\n",
            "   macro avg       0.94      0.94      0.94      5000\n",
            "weighted avg       0.94      0.94      0.94      5000\n",
            "\n"
          ]
        }
      ]
    }
  ],
  "metadata": {
    "colab": {
      "provenance": [],
      "authorship_tag": "ABX9TyMuYIgN2WU0ZWDJci7x0nlI",
      "include_colab_link": true
    },
    "kernelspec": {
      "display_name": "Python 3",
      "name": "python3"
    },
    "language_info": {
      "name": "python"
    }
  },
  "nbformat": 4,
  "nbformat_minor": 0
}